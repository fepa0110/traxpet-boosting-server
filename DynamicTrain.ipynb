{
 "cells": [
  {
   "cell_type": "code",
   "execution_count": 15,
   "id": "30cdd8f3-8303-4c2c-9dbc-72bac669e673",
   "metadata": {},
   "outputs": [
    {
     "name": "stdout",
     "output_type": "stream",
     "text": [
      "1 activa 2021-10-24 mascota_buscada 2 163 \n",
      "2 activa 2021-10-24 mascota_encontrada 2 164 \n",
      "3 activa 2021-10-25 mascota_encontrada 2 165 \n",
      "4 activa 2021-10-25 mascota_buscada 2 166 \n",
      "5 activa 2021-10-25 mascota_encontrada 2 167 \n",
      "6 activa 2021-10-25 mascota_encontrada 2 168 \n",
      "7 activa 2021-10-25 mascota_buscada 7 169 \n",
      "8 activa 2021-10-25 mascota_buscada 7 170 \n",
      "9 activa 2021-10-25 mascota_encontrada 6 171 \n",
      "10 activa 2021-10-25 mascota_buscada 7 172 \n",
      "11 activa 2021-10-25 mascota_buscada 6 173 \n",
      "12 activa 2021-10-25 mascota_encontrada 10 174 \n",
      "13 activa 2021-10-25 mascota_buscada 10 175 \n",
      "14 activa 2021-10-26 mascota_buscada 10 176 \n"
     ]
    }
   ],
   "source": [
    "import drda\n",
    "\n",
    "# Conexion con derby\n",
    "conn = drda.connect(host='localhost', database='traxpet-db', port=28001)\n",
    "\n",
    "# Consulta basica\n",
    "cur = conn.cursor()\n",
    "cur.execute('select * from publicacion')\n",
    "\n",
    "\n",
    "column = \"\"\n",
    "\n",
    "# Formateando la consulta por la salida estandar\n",
    "for row in cur.fetchall():\n",
    "    for col in row:\n",
    "        column = column + str(col) + \" \"\n",
    "    print(column)\n",
    "    column = \"\"\n"
   ]
  }
 ],
 "metadata": {
  "interpreter": {
   "hash": "916dbcbb3f70747c44a77c7bcd40155683ae19c65e1c03b4aa3499c5328201f1"
  },
  "kernelspec": {
   "display_name": "Python 3.9.7 64-bit",
   "name": "python3"
  },
  "language_info": {
   "codemirror_mode": {
    "name": "ipython",
    "version": 3
   },
   "file_extension": ".py",
   "mimetype": "text/x-python",
   "name": "python",
   "nbconvert_exporter": "python",
   "pygments_lexer": "ipython3",
   "version": "3.9.7"
  }
 },
 "nbformat": 4,
 "nbformat_minor": 5
}
